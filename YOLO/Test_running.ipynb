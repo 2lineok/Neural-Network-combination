{
 "cells": [
  {
   "cell_type": "code",
   "execution_count": 4,
   "metadata": {},
   "outputs": [
    {
     "name": "stdout",
     "output_type": "stream",
     "text": [
      "\n",
      "image 1/7 /home/skl5876/ultralytics/Yolo/Neural-Network-combination/YOLO/data/1452.jpg: 480x640 1 cat, 25.3ms\n",
      "image 2/7 /home/skl5876/ultralytics/Yolo/Neural-Network-combination/YOLO/data/2125.jpg: 640x480 2 persons, 2 cars, 1 truck, 26.3ms\n",
      "image 3/7 /home/skl5876/ultralytics/Yolo/Neural-Network-combination/YOLO/data/2913.jpg: 480x640 1 cup, 1 fork, 1 orange, 1 dining table, 23.8ms\n",
      "image 4/7 /home/skl5876/ultralytics/Yolo/Neural-Network-combination/YOLO/data/3221.jpg: 320x640 2 cups, 1 sandwich, 1 pizza, 1 dining table, 24.4ms\n",
      "image 5/7 /home/skl5876/ultralytics/Yolo/Neural-Network-combination/YOLO/data/3509.jpg: 640x320 2 cups, 3 bowls, 1 dining table, 23.6ms\n",
      "image 6/7 /home/skl5876/ultralytics/Yolo/Neural-Network-combination/YOLO/data/5519.jpg: 480x640 2 cars, 23.3ms\n",
      "image 7/7 /home/skl5876/ultralytics/Yolo/Neural-Network-combination/YOLO/data/6242.jpg: 480x640 1 dog, 7.8ms\n",
      "Speed: 5.6ms preprocess, 22.1ms inference, 28.2ms postprocess per image at shape (1, 3, 480, 640)\n",
      "Results saved to \u001b[1mruns/detect/predict2\u001b[0m\n"
     ]
    }
   ],
   "source": [
    "import cv2\n",
    "from PIL import Image\n",
    "\n",
    "from ultralytics import YOLO\n",
    "\n",
    "model = YOLO(\"yolov8n.pt\")\n",
    "# accepts all formats - image/dir/Path/URL/video/PIL/ndarray. 0 for webcam\n",
    "#results = model.predict(source=\"0\")\n",
    "#results = model.predict(source=\"folder\", show=True)  # Display preds. Accepts all YOLO predict arguments\n",
    "\n",
    "# from PIL\n",
    "\n",
    "results = model.predict(source='/home/skl5876/ultralytics/Yolo/Neural-Network-combination/YOLO/data', save=True)  # save plotted images"
   ]
  },
  {
   "cell_type": "code",
   "execution_count": 5,
   "metadata": {},
   "outputs": [
    {
     "name": "stdout",
     "output_type": "stream",
     "text": [
      "\n",
      "0: 480x640 1 cat, 19.4ms\n",
      "Speed: 5.9ms preprocess, 19.4ms inference, 30.4ms postprocess per image at shape (1, 3, 480, 640)\n",
      "Results saved to \u001b[1mruns/detect/predict3\u001b[0m\n",
      "1 label saved to runs/detect/predict3/labels\n"
     ]
    }
   ],
   "source": [
    "import cv2\n",
    "from PIL import Image\n",
    "\n",
    "from ultralytics import YOLO\n",
    "\n",
    "model = YOLO(\"yolov8n.pt\")\n",
    "# accepts all formats - image/dir/Path/URL/video/PIL/ndarray. 0 for webcam\n",
    "#results = model.predict(source=\"0\")\n",
    "#results = model.predict(source=\"folder\", show=True)  # Display preds. Accepts all YOLO predict arguments\n",
    "\n",
    "# from PIL\n",
    "# from ndarray\n",
    "im2 = cv2.imread(\"/home/skl5876/ultralytics/Yolo/Neural-Network-combination/YOLO/data/1452.jpg\")\n",
    "results = model.predict(source=im2, save=True, save_txt=True)  "
   ]
  },
  {
   "cell_type": "code",
   "execution_count": 6,
   "metadata": {},
   "outputs": [
    {
     "name": "stdout",
     "output_type": "stream",
     "text": [
      "{0: 'person', 1: 'bicycle', 2: 'car', 3: 'motorcycle', 4: 'airplane', 5: 'bus', 6: 'train', 7: 'truck', 8: 'boat', 9: 'traffic light', 10: 'fire hydrant', 11: 'stop sign', 12: 'parking meter', 13: 'bench', 14: 'bird', 15: 'cat', 16: 'dog', 17: 'horse', 18: 'sheep', 19: 'cow', 20: 'elephant', 21: 'bear', 22: 'zebra', 23: 'giraffe', 24: 'backpack', 25: 'umbrella', 26: 'handbag', 27: 'tie', 28: 'suitcase', 29: 'frisbee', 30: 'skis', 31: 'snowboard', 32: 'sports ball', 33: 'kite', 34: 'baseball bat', 35: 'baseball glove', 36: 'skateboard', 37: 'surfboard', 38: 'tennis racket', 39: 'bottle', 40: 'wine glass', 41: 'cup', 42: 'fork', 43: 'knife', 44: 'spoon', 45: 'bowl', 46: 'banana', 47: 'apple', 48: 'sandwich', 49: 'orange', 50: 'broccoli', 51: 'carrot', 52: 'hot dog', 53: 'pizza', 54: 'donut', 55: 'cake', 56: 'chair', 57: 'couch', 58: 'potted plant', 59: 'bed', 60: 'dining table', 61: 'toilet', 62: 'tv', 63: 'laptop', 64: 'mouse', 65: 'remote', 66: 'keyboard', 67: 'cell phone', 68: 'microwave', 69: 'oven', 70: 'toaster', 71: 'sink', 72: 'refrigerator', 73: 'book', 74: 'clock', 75: 'vase', 76: 'scissors', 77: 'teddy bear', 78: 'hair drier', 79: 'toothbrush'}\n"
     ]
    }
   ],
   "source": [
    "import cv2\n",
    "from PIL import Image\n",
    "\n",
    "from ultralytics import YOLO\n",
    "\n",
    "model = YOLO(\"yolov8n.pt\")\n",
    "\n",
    "# Access the class names\n",
    "class_names = model.names\n",
    "\n",
    "# Print the class names\n",
    "print(class_names)"
   ]
  }
 ],
 "metadata": {
  "kernelspec": {
   "display_name": "yolo",
   "language": "python",
   "name": "python3"
  },
  "language_info": {
   "codemirror_mode": {
    "name": "ipython",
    "version": 3
   },
   "file_extension": ".py",
   "mimetype": "text/x-python",
   "name": "python",
   "nbconvert_exporter": "python",
   "pygments_lexer": "ipython3",
   "version": "3.11.7"
  }
 },
 "nbformat": 4,
 "nbformat_minor": 2
}
