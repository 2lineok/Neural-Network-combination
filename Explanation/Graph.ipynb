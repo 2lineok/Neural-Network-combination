{
 "cells": [
  {
   "cell_type": "code",
   "execution_count": 1,
   "metadata": {},
   "outputs": [
    {
     "name": "stdout",
     "output_type": "stream",
     "text": [
      "Downloading https://github.com/ultralytics/assets/releases/download/v8.2.0/yolov8n.pt to 'yolov8n.pt'...\n"
     ]
    },
    {
     "name": "stderr",
     "output_type": "stream",
     "text": [
      "100%|██████████| 6.25M/6.25M [00:00<00:00, 67.7MB/s]\n"
     ]
    },
    {
     "name": "stdout",
     "output_type": "stream",
     "text": [
      "New https://pypi.org/project/ultralytics/8.2.87 available 😃 Update with 'pip install -U ultralytics'\n",
      "Ultralytics YOLOv8.2.85 🚀 Python-3.11.7 torch-2.1.2 CUDA:0 (NVIDIA A100 80GB PCIe, 81038MiB)\n",
      "\u001b[34m\u001b[1mengine/trainer: \u001b[0mtask=detect, mode=train, model=yolov8n.pt, data=coco128.yaml, epochs=3, time=None, patience=100, batch=16, imgsz=640, save=True, save_period=-1, cache=False, device=None, workers=8, project=None, name=train, exist_ok=False, pretrained=True, optimizer=auto, verbose=True, seed=0, deterministic=True, single_cls=False, rect=False, cos_lr=False, close_mosaic=10, resume=False, amp=True, fraction=1.0, profile=False, freeze=None, multi_scale=False, overlap_mask=True, mask_ratio=4, dropout=0.0, val=True, split=val, save_json=False, save_hybrid=False, conf=None, iou=0.7, max_det=300, half=False, dnn=False, plots=True, source=None, vid_stride=1, stream_buffer=False, visualize=False, augment=False, agnostic_nms=False, classes=None, retina_masks=False, embed=None, show=False, save_frames=False, save_txt=False, save_conf=False, save_crop=False, show_labels=True, show_conf=True, show_boxes=True, line_width=None, format=torchscript, keras=False, optimize=False, int8=False, dynamic=False, simplify=False, opset=None, workspace=4, nms=False, lr0=0.01, lrf=0.01, momentum=0.937, weight_decay=0.0005, warmup_epochs=3.0, warmup_momentum=0.8, warmup_bias_lr=0.1, box=7.5, cls=0.5, dfl=1.5, pose=12.0, kobj=1.0, label_smoothing=0.0, nbs=64, hsv_h=0.015, hsv_s=0.7, hsv_v=0.4, degrees=0.0, translate=0.1, scale=0.5, shear=0.0, perspective=0.0, flipud=0.0, fliplr=0.5, bgr=0.0, mosaic=1.0, mixup=0.0, copy_paste=0.0, auto_augment=randaugment, erasing=0.4, crop_fraction=1.0, cfg=None, tracker=botsort.yaml, save_dir=runs/detect/train\n",
      "\n",
      "Dataset 'coco128.yaml' images not found ⚠️, missing path '/home/skl5876/datasets/coco128/images/train2017'\n",
      "Downloading https://ultralytics.com/assets/coco128.zip to '/home/skl5876/datasets/coco128.zip'...\n"
     ]
    },
    {
     "name": "stderr",
     "output_type": "stream",
     "text": [
      "100%|██████████| 6.66M/6.66M [00:00<00:00, 36.2MB/s]\n",
      "Unzipping /home/skl5876/datasets/coco128.zip to /home/skl5876/datasets/coco128...: 100%|██████████| 263/263 [00:00<00:00, 6881.78file/s]"
     ]
    },
    {
     "name": "stdout",
     "output_type": "stream",
     "text": [
      "Dataset download success ✅ (0.6s), saved to \u001b[1m/home/skl5876/datasets\u001b[0m\n",
      "\n"
     ]
    },
    {
     "name": "stderr",
     "output_type": "stream",
     "text": [
      "\n"
     ]
    },
    {
     "name": "stdout",
     "output_type": "stream",
     "text": [
      "\n",
      "                   from  n    params  module                                       arguments                     \n",
      "  0                  -1  1       464  ultralytics.nn.modules.conv.Conv             [3, 16, 3, 2]                 \n",
      "  1                  -1  1      4672  ultralytics.nn.modules.conv.Conv             [16, 32, 3, 2]                \n",
      "  2                  -1  1      7360  ultralytics.nn.modules.block.C2f             [32, 32, 1, True]             \n",
      "  3                  -1  1     18560  ultralytics.nn.modules.conv.Conv             [32, 64, 3, 2]                \n",
      "  4                  -1  2     49664  ultralytics.nn.modules.block.C2f             [64, 64, 2, True]             \n",
      "  5                  -1  1     73984  ultralytics.nn.modules.conv.Conv             [64, 128, 3, 2]               \n",
      "  6                  -1  2    197632  ultralytics.nn.modules.block.C2f             [128, 128, 2, True]           \n",
      "  7                  -1  1    295424  ultralytics.nn.modules.conv.Conv             [128, 256, 3, 2]              \n",
      "  8                  -1  1    460288  ultralytics.nn.modules.block.C2f             [256, 256, 1, True]           \n",
      "  9                  -1  1    164608  ultralytics.nn.modules.block.SPPF            [256, 256, 5]                 \n",
      " 10                  -1  1         0  torch.nn.modules.upsampling.Upsample         [None, 2, 'nearest']          \n",
      " 11             [-1, 6]  1         0  ultralytics.nn.modules.conv.Concat           [1]                           \n",
      " 12                  -1  1    148224  ultralytics.nn.modules.block.C2f             [384, 128, 1]                 \n",
      " 13                  -1  1         0  torch.nn.modules.upsampling.Upsample         [None, 2, 'nearest']          \n",
      " 14             [-1, 4]  1         0  ultralytics.nn.modules.conv.Concat           [1]                           \n",
      " 15                  -1  1     37248  ultralytics.nn.modules.block.C2f             [192, 64, 1]                  \n",
      " 16                  -1  1     36992  ultralytics.nn.modules.conv.Conv             [64, 64, 3, 2]                \n",
      " 17            [-1, 12]  1         0  ultralytics.nn.modules.conv.Concat           [1]                           \n",
      " 18                  -1  1    123648  ultralytics.nn.modules.block.C2f             [192, 128, 1]                 \n",
      " 19                  -1  1    147712  ultralytics.nn.modules.conv.Conv             [128, 128, 3, 2]              \n",
      " 20             [-1, 9]  1         0  ultralytics.nn.modules.conv.Concat           [1]                           \n",
      " 21                  -1  1    493056  ultralytics.nn.modules.block.C2f             [384, 256, 1]                 \n",
      " 22        [15, 18, 21]  1    897664  ultralytics.nn.modules.head.Detect           [80, [64, 128, 256]]          \n",
      "Model summary: 225 layers, 3,157,200 parameters, 3,157,184 gradients, 8.9 GFLOPs\n",
      "\n",
      "Transferred 355/355 items from pretrained weights\n"
     ]
    },
    {
     "name": "stderr",
     "output_type": "stream",
     "text": [
      "\u001b[1;38;5;214mCOMET WARNING:\u001b[0m To get all data logged automatically, import comet_ml before the following modules: torch.\n",
      "\u001b[1;38;5;214mCOMET WARNING:\u001b[0m As you are running in a Jupyter environment, you will need to call `experiment.end()` when finished to ensure all metrics and code are logged before exiting.\n",
      "\u001b[1;38;5;39mCOMET INFO:\u001b[0m Experiment is live on comet.com https://www.comet.com/2lineok/general/8be134b9eb7b41caa010cabd83ab1fc3\n",
      "\n"
     ]
    },
    {
     "name": "stdout",
     "output_type": "stream",
     "text": [
      "Freezing layer 'model.22.dfl.conv.weight'\n",
      "\u001b[34m\u001b[1mAMP: \u001b[0mrunning Automatic Mixed Precision (AMP) checks with YOLOv8n...\n",
      "\u001b[34m\u001b[1mAMP: \u001b[0mchecks passed ✅\n"
     ]
    },
    {
     "name": "stderr",
     "output_type": "stream",
     "text": [
      "\u001b[34m\u001b[1mtrain: \u001b[0mScanning /home/skl5876/datasets/coco128/labels/train2017... 126 images, 2 backgrounds, 0 corrupt: 100%|██████████| 128/128 [00:00<00:00, 1131.33it/s]"
     ]
    },
    {
     "name": "stdout",
     "output_type": "stream",
     "text": [
      "\u001b[34m\u001b[1mtrain: \u001b[0mNew cache created: /home/skl5876/datasets/coco128/labels/train2017.cache\n"
     ]
    },
    {
     "name": "stderr",
     "output_type": "stream",
     "text": [
      "\n",
      "\u001b[34m\u001b[1mval: \u001b[0mScanning /home/skl5876/datasets/coco128/labels/train2017.cache... 126 images, 2 backgrounds, 0 corrupt: 100%|██████████| 128/128 [00:00<?, ?it/s]\n"
     ]
    },
    {
     "name": "stdout",
     "output_type": "stream",
     "text": [
      "Plotting labels to runs/detect/train/labels.jpg... \n",
      "\u001b[34m\u001b[1moptimizer:\u001b[0m 'optimizer=auto' found, ignoring 'lr0=0.01' and 'momentum=0.937' and determining best 'optimizer', 'lr0' and 'momentum' automatically... \n",
      "\u001b[34m\u001b[1moptimizer:\u001b[0m AdamW(lr=0.000119, momentum=0.9) with parameter groups 57 weight(decay=0.0), 64 weight(decay=0.0005), 63 bias(decay=0.0)\n",
      "Image sizes 640 train, 640 val\n",
      "Using 8 dataloader workers\n",
      "Logging results to \u001b[1mruns/detect/train\u001b[0m\n",
      "Starting training for 3 epochs...\n",
      "\n",
      "      Epoch    GPU_mem   box_loss   cls_loss   dfl_loss  Instances       Size\n"
     ]
    },
    {
     "name": "stderr",
     "output_type": "stream",
     "text": [
      "        1/3      2.98G      1.214      1.669       1.27        217        640: 100%|██████████| 8/8 [00:07<00:00,  1.04it/s]\n",
      "                 Class     Images  Instances      Box(P          R      mAP50  mAP50-95): 100%|██████████| 4/4 [00:11<00:00,  2.94s/it]"
     ]
    },
    {
     "name": "stdout",
     "output_type": "stream",
     "text": [
      "                   all        128        929       0.65      0.526      0.614      0.455\n"
     ]
    },
    {
     "name": "stderr",
     "output_type": "stream",
     "text": [
      "\n"
     ]
    },
    {
     "name": "stdout",
     "output_type": "stream",
     "text": [
      "\n",
      "      Epoch    GPU_mem   box_loss   cls_loss   dfl_loss  Instances       Size\n"
     ]
    },
    {
     "name": "stderr",
     "output_type": "stream",
     "text": [
      "        2/3      2.79G      1.202      1.441      1.231        218        640: 100%|██████████| 8/8 [00:04<00:00,  1.79it/s]\n",
      "                 Class     Images  Instances      Box(P          R      mAP50  mAP50-95): 100%|██████████| 4/4 [00:11<00:00,  2.86s/it]"
     ]
    },
    {
     "name": "stdout",
     "output_type": "stream",
     "text": [
      "                   all        128        929      0.665      0.533      0.623      0.463\n"
     ]
    },
    {
     "name": "stderr",
     "output_type": "stream",
     "text": [
      "\n"
     ]
    },
    {
     "name": "stdout",
     "output_type": "stream",
     "text": [
      "\n",
      "      Epoch    GPU_mem   box_loss   cls_loss   dfl_loss  Instances       Size\n"
     ]
    },
    {
     "name": "stderr",
     "output_type": "stream",
     "text": [
      "        3/3      3.02G      1.164      1.398      1.256        215        640: 100%|██████████| 8/8 [00:06<00:00,  1.17it/s]\n",
      "                 Class     Images  Instances      Box(P          R      mAP50  mAP50-95): 100%|██████████| 4/4 [00:12<00:00,  3.07s/it]"
     ]
    },
    {
     "name": "stdout",
     "output_type": "stream",
     "text": [
      "                   all        128        929      0.668      0.533       0.63       0.47\n"
     ]
    },
    {
     "name": "stderr",
     "output_type": "stream",
     "text": [
      "\n"
     ]
    },
    {
     "name": "stdout",
     "output_type": "stream",
     "text": [
      "\n",
      "3 epochs completed in 0.016 hours.\n",
      "Optimizer stripped from runs/detect/train/weights/last.pt, 6.5MB\n",
      "Optimizer stripped from runs/detect/train/weights/best.pt, 6.5MB\n",
      "\n",
      "Validating runs/detect/train/weights/best.pt...\n",
      "Ultralytics YOLOv8.2.85 🚀 Python-3.11.7 torch-2.1.2 CUDA:0 (NVIDIA A100 80GB PCIe, 81038MiB)\n",
      "Model summary (fused): 168 layers, 3,151,904 parameters, 0 gradients, 8.7 GFLOPs\n"
     ]
    },
    {
     "name": "stderr",
     "output_type": "stream",
     "text": [
      "                 Class     Images  Instances      Box(P          R      mAP50  mAP50-95): 100%|██████████| 4/4 [00:16<00:00,  4.17s/it]\n"
     ]
    },
    {
     "name": "stdout",
     "output_type": "stream",
     "text": [
      "                   all        128        929      0.666      0.534       0.63       0.47\n",
      "                person         61        254        0.8      0.665      0.766      0.543\n",
      "               bicycle          3          6      0.499      0.333      0.317      0.261\n",
      "                   car         12         46      0.793      0.217      0.279      0.175\n",
      "            motorcycle          4          5      0.725        0.8      0.898      0.707\n",
      "              airplane          5          6       0.83      0.819      0.903      0.697\n",
      "                   bus          5          7      0.613      0.714      0.727      0.678\n",
      "                 train          3          3      0.557      0.667      0.755      0.621\n",
      "                 truck          5         12          1      0.341      0.484      0.317\n",
      "                  boat          2          6      0.283      0.167      0.369      0.241\n",
      "         traffic light          4         14      0.706      0.214      0.204       0.14\n",
      "             stop sign          2          2      0.951          1      0.995      0.707\n",
      "                 bench          5          9      0.826       0.53      0.634      0.398\n",
      "                  bird          2         16      0.913       0.75      0.889       0.54\n",
      "                   cat          4          4      0.881          1      0.995      0.816\n",
      "                   dog          9          9       0.65      0.778      0.824      0.621\n",
      "                 horse          1          2      0.555          1      0.995      0.557\n",
      "              elephant          4         17      0.854      0.765      0.881      0.655\n",
      "                  bear          1          1      0.626          1      0.995      0.995\n",
      "                 zebra          2          4      0.858          1      0.995      0.965\n",
      "               giraffe          4          9      0.804      0.889      0.963      0.721\n",
      "              backpack          4          6      0.615      0.333      0.378       0.22\n",
      "              umbrella          4         18      0.753        0.5       0.68      0.467\n",
      "               handbag          9         19      0.811      0.105      0.264      0.144\n",
      "                   tie          6          7      0.709      0.698      0.643      0.475\n",
      "              suitcase          2          4      0.661       0.98      0.828      0.604\n",
      "               frisbee          5          5      0.618      0.653      0.733       0.64\n",
      "                  skis          1          1      0.493          1      0.995      0.497\n",
      "             snowboard          2          7      0.789      0.714      0.744      0.493\n",
      "           sports ball          6          6      0.695       0.39      0.515      0.297\n",
      "                  kite          2         10      0.826      0.478      0.583        0.2\n",
      "          baseball bat          4          4      0.383      0.324      0.372      0.182\n",
      "        baseball glove          4          7      0.663      0.429       0.43      0.295\n",
      "            skateboard          3          5      0.759        0.6        0.6      0.424\n",
      "         tennis racket          5          7      0.517      0.286       0.49      0.317\n",
      "                bottle          6         18      0.527      0.372      0.356      0.204\n",
      "            wine glass          5         16      0.697      0.438      0.554      0.338\n",
      "                   cup         10         36      0.592       0.25      0.382      0.277\n",
      "                  fork          6          6          1      0.299       0.35      0.244\n",
      "                 knife          7         16      0.673      0.625       0.62      0.369\n",
      "                 spoon          5         22      0.612      0.182       0.32      0.162\n",
      "                  bowl          9         28      0.651      0.571      0.613      0.495\n",
      "                banana          1          1          0          0      0.166     0.0558\n",
      "              sandwich          2          2      0.342        0.5      0.745      0.745\n",
      "                orange          1          4          1      0.326      0.995      0.666\n",
      "              broccoli          4         11      0.474      0.182      0.242      0.203\n",
      "                carrot          3         24      0.689        0.5      0.693      0.443\n",
      "               hot dog          1          2      0.643      0.929      0.828      0.796\n",
      "                 pizza          5          5       0.79          1      0.995      0.859\n",
      "                 donut          2         14      0.646          1      0.934       0.85\n",
      "                  cake          4          4       0.73          1      0.995       0.88\n",
      "                 chair          9         35      0.487      0.543       0.47      0.268\n",
      "                 couch          5          6       0.43      0.333      0.621      0.477\n",
      "          potted plant          9         14      0.735      0.643      0.725      0.481\n",
      "                   bed          3          3      0.689      0.667       0.83       0.68\n",
      "          dining table         10         13      0.493      0.615      0.504      0.415\n",
      "                toilet          2          2      0.635        0.5      0.828      0.763\n",
      "                    tv          2          2      0.412        0.5      0.745      0.696\n",
      "                laptop          2          3          1          0      0.617      0.488\n",
      "                 mouse          2          2          1          0     0.0483    0.00483\n",
      "                remote          5          8      0.848        0.5      0.569      0.494\n",
      "            cell phone          5          8          0          0     0.0582     0.0391\n",
      "             microwave          3          3      0.503      0.667       0.83      0.699\n",
      "                  oven          5          5      0.465        0.4      0.339       0.27\n",
      "                  sink          4          6       0.36      0.167      0.274      0.181\n",
      "          refrigerator          5          5      0.675        0.4      0.672      0.534\n",
      "                  book          6         29       0.56      0.103      0.381      0.194\n",
      "                 clock          8          9      0.783      0.804      0.895       0.77\n",
      "                  vase          2          2      0.382          1      0.828      0.745\n",
      "              scissors          1          1          1          0      0.199     0.0597\n",
      "            teddy bear          6         21          1      0.372      0.651      0.425\n",
      "            toothbrush          2          5      0.784        0.4      0.743      0.488\n",
      "Speed: 1.5ms preprocess, 3.0ms inference, 0.0ms loss, 24.2ms postprocess per image\n",
      "Results saved to \u001b[1mruns/detect/train\u001b[0m\n"
     ]
    },
    {
     "name": "stderr",
     "output_type": "stream",
     "text": [
      "\u001b[1;38;5;39mCOMET INFO:\u001b[0m ---------------------------------------------------------------------------------------\n",
      "\u001b[1;38;5;39mCOMET INFO:\u001b[0m Comet.ml Experiment Summary\n",
      "\u001b[1;38;5;39mCOMET INFO:\u001b[0m ---------------------------------------------------------------------------------------\n",
      "\u001b[1;38;5;39mCOMET INFO:\u001b[0m   Data:\n",
      "\u001b[1;38;5;39mCOMET INFO:\u001b[0m     display_summary_level : 1\n",
      "\u001b[1;38;5;39mCOMET INFO:\u001b[0m     name                  : head_pizza_3084\n",
      "\u001b[1;38;5;39mCOMET INFO:\u001b[0m     url                   : https://www.comet.com/2lineok/general/8be134b9eb7b41caa010cabd83ab1fc3\n",
      "\u001b[1;38;5;39mCOMET INFO:\u001b[0m   Metrics [count] (min, max):\n",
      "\u001b[1;38;5;39mCOMET INFO:\u001b[0m     lr/pg0 [4]               : (8.33e-06, 1.1959500000000001e-05)\n",
      "\u001b[1;38;5;39mCOMET INFO:\u001b[0m     lr/pg1 [4]               : (8.33e-06, 1.1959500000000001e-05)\n",
      "\u001b[1;38;5;39mCOMET INFO:\u001b[0m     lr/pg2 [4]               : (8.33e-06, 1.1959500000000001e-05)\n",
      "\u001b[1;38;5;39mCOMET INFO:\u001b[0m     metrics/mAP50(B) [4]     : (0.61437, 0.63037)\n",
      "\u001b[1;38;5;39mCOMET INFO:\u001b[0m     metrics/mAP50-95(B) [4]  : (0.45511, 0.47017)\n",
      "\u001b[1;38;5;39mCOMET INFO:\u001b[0m     metrics/precision(B) [4] : (0.65019, 0.66751)\n",
      "\u001b[1;38;5;39mCOMET INFO:\u001b[0m     metrics/recall(B) [4]    : (0.52625, 0.5341821735433205)\n",
      "\u001b[1;38;5;39mCOMET INFO:\u001b[0m     model/GFLOPs             : 8.858\n",
      "\u001b[1;38;5;39mCOMET INFO:\u001b[0m     model/parameters         : 3157200\n",
      "\u001b[1;38;5;39mCOMET INFO:\u001b[0m     model/speed_PyTorch(ms)  : 4.549\n",
      "\u001b[1;38;5;39mCOMET INFO:\u001b[0m     train/box_loss [3]       : (1.16438, 1.21428)\n",
      "\u001b[1;38;5;39mCOMET INFO:\u001b[0m     train/cls_loss [3]       : (1.39842, 1.66926)\n",
      "\u001b[1;38;5;39mCOMET INFO:\u001b[0m     train/dfl_loss [3]       : (1.231, 1.27018)\n",
      "\u001b[1;38;5;39mCOMET INFO:\u001b[0m     val/box_loss [3]         : (1.07774, 1.0826)\n",
      "\u001b[1;38;5;39mCOMET INFO:\u001b[0m     val/cls_loss [3]         : (1.08011, 1.11863)\n",
      "\u001b[1;38;5;39mCOMET INFO:\u001b[0m     val/dfl_loss [3]         : (1.12277, 1.12467)\n",
      "\u001b[1;38;5;39mCOMET INFO:\u001b[0m   Others:\n",
      "\u001b[1;38;5;39mCOMET INFO:\u001b[0m     Created from                 : yolov8\n",
      "\u001b[1;38;5;39mCOMET INFO:\u001b[0m     eval_batch_logging_interval  : 1\n",
      "\u001b[1;38;5;39mCOMET INFO:\u001b[0m     log_confusion_matrix_on_eval : False\n",
      "\u001b[1;38;5;39mCOMET INFO:\u001b[0m     log_image_predictions        : True\n",
      "\u001b[1;38;5;39mCOMET INFO:\u001b[0m     max_image_predictions        : 100\n",
      "\u001b[1;38;5;39mCOMET INFO:\u001b[0m   Parameters:\n",
      "\u001b[1;38;5;39mCOMET INFO:\u001b[0m     agnostic_nms    : False\n",
      "\u001b[1;38;5;39mCOMET INFO:\u001b[0m     amp             : True\n",
      "\u001b[1;38;5;39mCOMET INFO:\u001b[0m     augment         : False\n",
      "\u001b[1;38;5;39mCOMET INFO:\u001b[0m     auto_augment    : randaugment\n",
      "\u001b[1;38;5;39mCOMET INFO:\u001b[0m     batch           : 16\n",
      "\u001b[1;38;5;39mCOMET INFO:\u001b[0m     bgr             : 0.0\n",
      "\u001b[1;38;5;39mCOMET INFO:\u001b[0m     box             : 7.5\n",
      "\u001b[1;38;5;39mCOMET INFO:\u001b[0m     cache           : False\n",
      "\u001b[1;38;5;39mCOMET INFO:\u001b[0m     cfg             : None\n",
      "\u001b[1;38;5;39mCOMET INFO:\u001b[0m     classes         : None\n",
      "\u001b[1;38;5;39mCOMET INFO:\u001b[0m     close_mosaic    : 10\n",
      "\u001b[1;38;5;39mCOMET INFO:\u001b[0m     cls             : 0.5\n",
      "\u001b[1;38;5;39mCOMET INFO:\u001b[0m     conf            : None\n",
      "\u001b[1;38;5;39mCOMET INFO:\u001b[0m     copy_paste      : 0.0\n",
      "\u001b[1;38;5;39mCOMET INFO:\u001b[0m     cos_lr          : False\n",
      "\u001b[1;38;5;39mCOMET INFO:\u001b[0m     crop_fraction   : 1.0\n",
      "\u001b[1;38;5;39mCOMET INFO:\u001b[0m     data            : /home/skl5876/.conda/envs/yolo/lib/python3.11/site-packages/ultralytics/cfg/datasets/coco128.yaml\n",
      "\u001b[1;38;5;39mCOMET INFO:\u001b[0m     degrees         : 0.0\n",
      "\u001b[1;38;5;39mCOMET INFO:\u001b[0m     deterministic   : True\n",
      "\u001b[1;38;5;39mCOMET INFO:\u001b[0m     device          : None\n",
      "\u001b[1;38;5;39mCOMET INFO:\u001b[0m     dfl             : 1.5\n",
      "\u001b[1;38;5;39mCOMET INFO:\u001b[0m     dnn             : False\n",
      "\u001b[1;38;5;39mCOMET INFO:\u001b[0m     dropout         : 0.0\n",
      "\u001b[1;38;5;39mCOMET INFO:\u001b[0m     dynamic         : False\n",
      "\u001b[1;38;5;39mCOMET INFO:\u001b[0m     embed           : None\n",
      "\u001b[1;38;5;39mCOMET INFO:\u001b[0m     epochs          : 3\n",
      "\u001b[1;38;5;39mCOMET INFO:\u001b[0m     erasing         : 0.4\n",
      "\u001b[1;38;5;39mCOMET INFO:\u001b[0m     exist_ok        : False\n",
      "\u001b[1;38;5;39mCOMET INFO:\u001b[0m     fliplr          : 0.5\n",
      "\u001b[1;38;5;39mCOMET INFO:\u001b[0m     flipud          : 0.0\n",
      "\u001b[1;38;5;39mCOMET INFO:\u001b[0m     format          : torchscript\n",
      "\u001b[1;38;5;39mCOMET INFO:\u001b[0m     fraction        : 1.0\n",
      "\u001b[1;38;5;39mCOMET INFO:\u001b[0m     freeze          : None\n",
      "\u001b[1;38;5;39mCOMET INFO:\u001b[0m     half            : False\n",
      "\u001b[1;38;5;39mCOMET INFO:\u001b[0m     hsv_h           : 0.015\n",
      "\u001b[1;38;5;39mCOMET INFO:\u001b[0m     hsv_s           : 0.7\n",
      "\u001b[1;38;5;39mCOMET INFO:\u001b[0m     hsv_v           : 0.4\n",
      "\u001b[1;38;5;39mCOMET INFO:\u001b[0m     imgsz           : 640\n",
      "\u001b[1;38;5;39mCOMET INFO:\u001b[0m     int8            : False\n",
      "\u001b[1;38;5;39mCOMET INFO:\u001b[0m     iou             : 0.7\n",
      "\u001b[1;38;5;39mCOMET INFO:\u001b[0m     keras           : False\n",
      "\u001b[1;38;5;39mCOMET INFO:\u001b[0m     kobj            : 1.0\n",
      "\u001b[1;38;5;39mCOMET INFO:\u001b[0m     label_smoothing : 0.0\n",
      "\u001b[1;38;5;39mCOMET INFO:\u001b[0m     line_width      : None\n",
      "\u001b[1;38;5;39mCOMET INFO:\u001b[0m     lr0             : 0.01\n",
      "\u001b[1;38;5;39mCOMET INFO:\u001b[0m     lrf             : 0.01\n",
      "\u001b[1;38;5;39mCOMET INFO:\u001b[0m     mask_ratio      : 4\n",
      "\u001b[1;38;5;39mCOMET INFO:\u001b[0m     max_det         : 300\n",
      "\u001b[1;38;5;39mCOMET INFO:\u001b[0m     mixup           : 0.0\n",
      "\u001b[1;38;5;39mCOMET INFO:\u001b[0m     mode            : train\n",
      "\u001b[1;38;5;39mCOMET INFO:\u001b[0m     model           : yolov8n.pt\n",
      "\u001b[1;38;5;39mCOMET INFO:\u001b[0m     momentum        : 0.937\n",
      "\u001b[1;38;5;39mCOMET INFO:\u001b[0m     mosaic          : 1.0\n",
      "\u001b[1;38;5;39mCOMET INFO:\u001b[0m     multi_scale     : False\n",
      "\u001b[1;38;5;39mCOMET INFO:\u001b[0m     name            : train\n",
      "\u001b[1;38;5;39mCOMET INFO:\u001b[0m     nbs             : 64\n",
      "\u001b[1;38;5;39mCOMET INFO:\u001b[0m     nms             : False\n",
      "\u001b[1;38;5;39mCOMET INFO:\u001b[0m     opset           : None\n",
      "\u001b[1;38;5;39mCOMET INFO:\u001b[0m     optimize        : False\n",
      "\u001b[1;38;5;39mCOMET INFO:\u001b[0m     optimizer       : auto\n",
      "\u001b[1;38;5;39mCOMET INFO:\u001b[0m     overlap_mask    : True\n",
      "\u001b[1;38;5;39mCOMET INFO:\u001b[0m     patience        : 100\n",
      "\u001b[1;38;5;39mCOMET INFO:\u001b[0m     perspective     : 0.0\n",
      "\u001b[1;38;5;39mCOMET INFO:\u001b[0m     plots           : True\n",
      "\u001b[1;38;5;39mCOMET INFO:\u001b[0m     pose            : 12.0\n",
      "\u001b[1;38;5;39mCOMET INFO:\u001b[0m     pretrained      : True\n",
      "\u001b[1;38;5;39mCOMET INFO:\u001b[0m     profile         : False\n",
      "\u001b[1;38;5;39mCOMET INFO:\u001b[0m     project         : None\n",
      "\u001b[1;38;5;39mCOMET INFO:\u001b[0m     rect            : False\n",
      "\u001b[1;38;5;39mCOMET INFO:\u001b[0m     resume          : False\n",
      "\u001b[1;38;5;39mCOMET INFO:\u001b[0m     retina_masks    : False\n",
      "\u001b[1;38;5;39mCOMET INFO:\u001b[0m     save            : True\n",
      "\u001b[1;38;5;39mCOMET INFO:\u001b[0m     save_conf       : False\n",
      "\u001b[1;38;5;39mCOMET INFO:\u001b[0m     save_crop       : False\n",
      "\u001b[1;38;5;39mCOMET INFO:\u001b[0m     save_dir        : runs/detect/train\n",
      "\u001b[1;38;5;39mCOMET INFO:\u001b[0m     save_frames     : False\n",
      "\u001b[1;38;5;39mCOMET INFO:\u001b[0m     save_hybrid     : False\n",
      "\u001b[1;38;5;39mCOMET INFO:\u001b[0m     save_json       : False\n",
      "\u001b[1;38;5;39mCOMET INFO:\u001b[0m     save_period     : -1\n",
      "\u001b[1;38;5;39mCOMET INFO:\u001b[0m     save_txt        : False\n",
      "\u001b[1;38;5;39mCOMET INFO:\u001b[0m     scale           : 0.5\n",
      "\u001b[1;38;5;39mCOMET INFO:\u001b[0m     seed            : 0\n",
      "\u001b[1;38;5;39mCOMET INFO:\u001b[0m     shear           : 0.0\n",
      "\u001b[1;38;5;39mCOMET INFO:\u001b[0m     show            : False\n",
      "\u001b[1;38;5;39mCOMET INFO:\u001b[0m     show_boxes      : True\n",
      "\u001b[1;38;5;39mCOMET INFO:\u001b[0m     show_conf       : True\n",
      "\u001b[1;38;5;39mCOMET INFO:\u001b[0m     show_labels     : True\n",
      "\u001b[1;38;5;39mCOMET INFO:\u001b[0m     simplify        : False\n",
      "\u001b[1;38;5;39mCOMET INFO:\u001b[0m     single_cls      : False\n",
      "\u001b[1;38;5;39mCOMET INFO:\u001b[0m     source          : None\n",
      "\u001b[1;38;5;39mCOMET INFO:\u001b[0m     split           : val\n",
      "\u001b[1;38;5;39mCOMET INFO:\u001b[0m     stream_buffer   : False\n",
      "\u001b[1;38;5;39mCOMET INFO:\u001b[0m     task            : detect\n",
      "\u001b[1;38;5;39mCOMET INFO:\u001b[0m     time            : None\n",
      "\u001b[1;38;5;39mCOMET INFO:\u001b[0m     tracker         : botsort.yaml\n",
      "\u001b[1;38;5;39mCOMET INFO:\u001b[0m     translate       : 0.1\n",
      "\u001b[1;38;5;39mCOMET INFO:\u001b[0m     val             : True\n",
      "\u001b[1;38;5;39mCOMET INFO:\u001b[0m     verbose         : True\n",
      "\u001b[1;38;5;39mCOMET INFO:\u001b[0m     vid_stride      : 1\n",
      "\u001b[1;38;5;39mCOMET INFO:\u001b[0m     visualize       : False\n",
      "\u001b[1;38;5;39mCOMET INFO:\u001b[0m     warmup_bias_lr  : 0.1\n",
      "\u001b[1;38;5;39mCOMET INFO:\u001b[0m     warmup_epochs   : 3.0\n",
      "\u001b[1;38;5;39mCOMET INFO:\u001b[0m     warmup_momentum : 0.8\n",
      "\u001b[1;38;5;39mCOMET INFO:\u001b[0m     weight_decay    : 0.0005\n",
      "\u001b[1;38;5;39mCOMET INFO:\u001b[0m     workers         : 8\n",
      "\u001b[1;38;5;39mCOMET INFO:\u001b[0m     workspace       : 4\n",
      "\u001b[1;38;5;39mCOMET INFO:\u001b[0m   Uploads:\n",
      "\u001b[1;38;5;39mCOMET INFO:\u001b[0m     conda-environment-definition : 1\n",
      "\u001b[1;38;5;39mCOMET INFO:\u001b[0m     conda-info                   : 1\n",
      "\u001b[1;38;5;39mCOMET INFO:\u001b[0m     conda-specification          : 1\n",
      "\u001b[1;38;5;39mCOMET INFO:\u001b[0m     confusion-matrix             : 1\n",
      "\u001b[1;38;5;39mCOMET INFO:\u001b[0m     environment details          : 1\n",
      "\u001b[1;38;5;39mCOMET INFO:\u001b[0m     filename                     : 1\n",
      "\u001b[1;38;5;39mCOMET INFO:\u001b[0m     git metadata                 : 1\n",
      "\u001b[1;38;5;39mCOMET INFO:\u001b[0m     images                       : 10\n",
      "\u001b[1;38;5;39mCOMET INFO:\u001b[0m     installed packages           : 1\n",
      "\u001b[1;38;5;39mCOMET INFO:\u001b[0m     model-element                : 1 (6.23 MB)\n",
      "\u001b[1;38;5;39mCOMET INFO:\u001b[0m     notebook                     : 1\n",
      "\u001b[1;38;5;39mCOMET INFO:\u001b[0m     os packages                  : 1\n",
      "\u001b[1;38;5;39mCOMET INFO:\u001b[0m     source_code                  : 1\n",
      "\u001b[1;38;5;39mCOMET INFO:\u001b[0m \n",
      "\u001b[1;38;5;214mCOMET WARNING:\u001b[0m To get all data logged automatically, import comet_ml before the following modules: torch.\n"
     ]
    },
    {
     "name": "stdout",
     "output_type": "stream",
     "text": [
      "Ultralytics YOLOv8.2.85 🚀 Python-3.11.7 torch-2.1.2 CUDA:0 (NVIDIA A100 80GB PCIe, 81038MiB)\n",
      "Model summary (fused): 168 layers, 3,151,904 parameters, 0 gradients, 8.7 GFLOPs\n"
     ]
    },
    {
     "name": "stderr",
     "output_type": "stream",
     "text": [
      "\u001b[34m\u001b[1mval: \u001b[0mScanning /home/skl5876/datasets/coco128/labels/train2017.cache... 126 images, 2 backgrounds, 0 corrupt: 100%|██████████| 128/128 [00:00<?, ?it/s]\n",
      "                 Class     Images  Instances      Box(P          R      mAP50  mAP50-95): 100%|██████████| 8/8 [00:16<00:00,  2.10s/it]\n"
     ]
    },
    {
     "name": "stdout",
     "output_type": "stream",
     "text": [
      "                   all        128        929      0.645      0.549      0.626      0.466\n",
      "                person         61        254      0.791      0.683      0.771      0.543\n",
      "               bicycle          3          6      0.486      0.333      0.317      0.251\n",
      "                   car         12         46      0.749      0.217      0.279      0.173\n",
      "            motorcycle          4          5      0.698        0.8      0.898      0.707\n",
      "              airplane          5          6      0.832      0.833      0.903      0.688\n",
      "                   bus          5          7      0.523      0.714      0.727      0.678\n",
      "                 train          3          3      0.548      0.667      0.764      0.628\n",
      "                 truck          5         12      0.957      0.417      0.485      0.288\n",
      "                  boat          2          6      0.233      0.167      0.339      0.151\n",
      "         traffic light          4         14      0.716      0.214      0.205       0.14\n",
      "             stop sign          2          2      0.906          1      0.995      0.707\n",
      "                 bench          5          9      0.832       0.55      0.634      0.398\n",
      "                  bird          2         16      0.857       0.75      0.881      0.521\n",
      "                   cat          4          4      0.868          1      0.995      0.835\n",
      "                   dog          9          9      0.592      0.778      0.824      0.621\n",
      "                 horse          1          2      0.539          1      0.995      0.557\n",
      "              elephant          4         17      0.838      0.765      0.881      0.657\n",
      "                  bear          1          1      0.614          1      0.995      0.995\n",
      "                 zebra          2          4      0.853          1      0.995      0.965\n",
      "               giraffe          4          9      0.746          1      0.943      0.736\n",
      "              backpack          4          6      0.607      0.333      0.393      0.239\n",
      "              umbrella          4         18      0.692      0.556      0.676       0.46\n",
      "               handbag          9         19      0.643      0.105      0.258      0.143\n",
      "                   tie          6          7      0.711      0.714      0.643      0.475\n",
      "              suitcase          2          4      0.638          1      0.828      0.604\n",
      "               frisbee          5          5      0.643        0.8      0.733       0.64\n",
      "                  skis          1          1      0.443          1      0.995      0.497\n",
      "             snowboard          2          7      0.774      0.714      0.718       0.49\n",
      "           sports ball          6          6      0.702      0.403      0.502      0.261\n",
      "                  kite          2         10      0.821        0.5      0.586      0.213\n",
      "          baseball bat          4          4      0.372       0.25      0.348      0.199\n",
      "        baseball glove          4          7      0.633      0.429       0.43      0.316\n",
      "            skateboard          3          5       0.81        0.6        0.6      0.452\n",
      "         tennis racket          5          7      0.742      0.415      0.528       0.35\n",
      "                bottle          6         18      0.492      0.389      0.371      0.224\n",
      "            wine glass          5         16      0.619      0.375      0.539      0.333\n",
      "                   cup         10         36      0.586      0.275      0.393      0.284\n",
      "                  fork          6          6      0.582      0.167      0.236        0.2\n",
      "                 knife          7         16      0.517      0.625      0.599      0.371\n",
      "                 spoon          5         22      0.592      0.182      0.306      0.167\n",
      "                  bowl          9         28      0.715      0.643      0.646       0.49\n",
      "                banana          1          1          0          0      0.111     0.0553\n",
      "              sandwich          2          2      0.349      0.547      0.497      0.497\n",
      "                orange          1          4          1      0.356      0.995      0.666\n",
      "              broccoli          4         11      0.447      0.182      0.257      0.205\n",
      "                carrot          3         24      0.725      0.658      0.696      0.452\n",
      "               hot dog          1          2       0.64      0.921      0.828      0.796\n",
      "                 pizza          5          5      0.847          1      0.995      0.843\n",
      "                 donut          2         14      0.641          1      0.933      0.849\n",
      "                  cake          4          4      0.619          1      0.995       0.88\n",
      "                 chair          9         35      0.455      0.543      0.465      0.257\n",
      "                 couch          5          6      0.521        0.5      0.722      0.566\n",
      "          potted plant          9         14        0.7      0.643      0.726      0.481\n",
      "                   bed          3          3      0.669      0.677      0.913      0.689\n",
      "          dining table         10         13      0.453      0.538      0.486      0.388\n",
      "                toilet          2          2      0.623        0.5      0.828      0.796\n",
      "                    tv          2          2      0.395        0.5      0.745      0.696\n",
      "                laptop          2          3          1          0      0.598       0.48\n",
      "                 mouse          2          2          1          0     0.0625    0.00625\n",
      "                remote          5          8      0.836        0.5      0.593      0.506\n",
      "            cell phone          5          8          0          0     0.0591     0.0382\n",
      "             microwave          3          3      0.443      0.667       0.83      0.683\n",
      "                  oven          5          5      0.413        0.4      0.339       0.27\n",
      "                  sink          4          6      0.359      0.167      0.254      0.177\n",
      "          refrigerator          5          5      0.662        0.4      0.672      0.516\n",
      "                  book          6         29      0.648      0.128      0.399      0.207\n",
      "                 clock          8          9      0.786      0.817      0.896      0.751\n",
      "                  vase          2          2      0.368          1      0.828      0.745\n",
      "              scissors          1          1          1          0      0.199     0.0597\n",
      "            teddy bear          6         21          1      0.376      0.639      0.412\n",
      "            toothbrush          2          5      0.692        0.6      0.755      0.454\n",
      "Speed: 1.6ms preprocess, 8.1ms inference, 0.0ms loss, 23.6ms postprocess per image\n",
      "Results saved to \u001b[1mruns/detect/train2\u001b[0m\n",
      "\n",
      "Downloading https://ultralytics.com/images/bus.jpg to 'bus.jpg'...\n"
     ]
    },
    {
     "name": "stderr",
     "output_type": "stream",
     "text": [
      "100%|██████████| 134k/134k [00:00<00:00, 7.01MB/s]"
     ]
    },
    {
     "name": "stdout",
     "output_type": "stream",
     "text": [
      "image 1/1 /home/skl5876/ultralytics/Yolo/Neural-Network-combination/explanation/bus.jpg: 640x480 4 persons, 1 bus, 1 stop sign, 18.2ms\n",
      "Speed: 4.9ms preprocess, 18.2ms inference, 17.5ms postprocess per image at shape (1, 3, 640, 480)\n"
     ]
    },
    {
     "name": "stderr",
     "output_type": "stream",
     "text": [
      "\n"
     ]
    },
    {
     "name": "stdout",
     "output_type": "stream",
     "text": [
      "Ultralytics YOLOv8.2.85 🚀 Python-3.11.7 torch-2.1.2 CPU (AMD EPYC 7763 64-Core Processor)\n",
      "\n",
      "\u001b[34m\u001b[1mPyTorch:\u001b[0m starting from 'runs/detect/train/weights/best.pt' with input shape (1, 3, 640, 640) BCHW and output shape(s) (1, 84, 8400) (6.2 MB)\n",
      "\n",
      "\u001b[34m\u001b[1mONNX:\u001b[0m starting export with onnx 1.16.2 opset 17...\n",
      "\u001b[34m\u001b[1mONNX:\u001b[0m export success ✅ 0.4s, saved as 'runs/detect/train/weights/best.onnx' (12.2 MB)\n",
      "\n",
      "Export complete (1.7s)\n",
      "Results saved to \u001b[1m/home/skl5876/ultralytics/Yolo/Neural-Network-combination/explanation/runs/detect/train/weights\u001b[0m\n",
      "Predict:         yolo predict task=detect model=runs/detect/train/weights/best.onnx imgsz=640  \n",
      "Validate:        yolo val task=detect model=runs/detect/train/weights/best.onnx imgsz=640 data=/home/skl5876/.conda/envs/yolo/lib/python3.11/site-packages/ultralytics/cfg/datasets/coco128.yaml  \n",
      "Visualize:       https://netron.app\n"
     ]
    }
   ],
   "source": [
    "from ultralytics import YOLO\n",
    "\n",
    "# Load a model\n",
    "model = YOLO(\"yolov8n.yaml\")  # build a new model from scratch\n",
    "model = YOLO(\"yolov8n.pt\")  # load a pretrained model (recommended for training)\n",
    "\n",
    "# Use the model\n",
    "results = model.train(data=\"coco128.yaml\", epochs=3)  # train the model\n",
    "results = model.val()  # evaluate model performance on the validation set\n",
    "results = model(\"https://ultralytics.com/images/bus.jpg\")  # predict on an image\n",
    "success = model.export(format=\"onnx\")  # export the model to ONNX format"
   ]
  },
  {
   "cell_type": "code",
   "execution_count": 3,
   "metadata": {},
   "outputs": [
    {
     "name": "stdout",
     "output_type": "stream",
     "text": [
      "\n",
      "Found https://ultralytics.com/images/bus.jpg locally at bus.jpg\n",
      "image 1/1 /home/skl5876/ultralytics/Yolo/Neural-Network-combination/explanation/bus.jpg: 640x480 4 persons, 1 bus, 1 stop sign, 25.4ms\n",
      "Speed: 12.2ms preprocess, 25.4ms inference, 30.1ms postprocess per image at shape (1, 3, 640, 480)\n",
      "Ultralytics YOLOv8.2.85 🚀 Python-3.11.7 torch-2.1.2 CPU (AMD EPYC 7763 64-Core Processor)\n",
      "\n",
      "\u001b[34m\u001b[1mPyTorch:\u001b[0m starting from 'yolov8n.pt' with input shape (1, 3, 640, 640) BCHW and output shape(s) (1, 84, 8400) (6.2 MB)\n",
      "\n",
      "\u001b[34m\u001b[1mONNX:\u001b[0m starting export with onnx 1.16.2 opset 17...\n",
      "\u001b[34m\u001b[1mONNX:\u001b[0m export success ✅ 0.4s, saved as 'yolov8n.onnx' (12.2 MB)\n",
      "\n",
      "Export complete (1.7s)\n",
      "Results saved to \u001b[1m/home/skl5876/ultralytics/Yolo/Neural-Network-combination/explanation\u001b[0m\n",
      "Predict:         yolo predict task=detect model=yolov8n.onnx imgsz=640  \n",
      "Validate:        yolo val task=detect model=yolov8n.onnx imgsz=640 data=coco.yaml  \n",
      "Visualize:       https://netron.app\n"
     ]
    },
    {
     "ename": "KeyError",
     "evalue": "tensor([5.], device='cuda:0')",
     "output_type": "error",
     "traceback": [
      "\u001b[0;31m---------------------------------------------------------------------------\u001b[0m",
      "\u001b[0;31mKeyError\u001b[0m                                  Traceback (most recent call last)",
      "Cell \u001b[0;32mIn[3], line 25\u001b[0m\n\u001b[1;32m     23\u001b[0m label \u001b[38;5;241m=\u001b[39m box\u001b[38;5;241m.\u001b[39mcls\n\u001b[1;32m     24\u001b[0m confidence \u001b[38;5;241m=\u001b[39m box\u001b[38;5;241m.\u001b[39mconf\n\u001b[0;32m---> 25\u001b[0m class_name \u001b[38;5;241m=\u001b[39m result\u001b[38;5;241m.\u001b[39mnames[label]\n\u001b[1;32m     27\u001b[0m \u001b[38;5;66;03m# Draw the bounding box\u001b[39;00m\n\u001b[1;32m     28\u001b[0m cv2\u001b[38;5;241m.\u001b[39mrectangle(image, (x1, y1), (x2, y2), (\u001b[38;5;241m0\u001b[39m, \u001b[38;5;241m255\u001b[39m, \u001b[38;5;241m0\u001b[39m), \u001b[38;5;241m2\u001b[39m)\n",
      "\u001b[0;31mKeyError\u001b[0m: tensor([5.], device='cuda:0')"
     ]
    }
   ],
   "source": [
    "import matplotlib.pyplot as plt\n",
    "import cv2\n",
    "from ultralytics import YOLO\n",
    "\n",
    "# Load the model\n",
    "model = YOLO(\"yolov8n.pt\")  # or your specific model path\n",
    "\n",
    "# Predict on an image\n",
    "results = model(\"https://ultralytics.com/images/bus.jpg\")  # predict on an image\n",
    "\n",
    "# Export the model to ONNX format\n",
    "success = model.export(format=\"onnx\")\n",
    "\n",
    "# Take the first result\n",
    "result = results[0]\n",
    "\n",
    "# Convert the image to a format suitable for visualization\n",
    "image = result.orig_img\n",
    "\n",
    "# Draw bounding boxes and labels on the image\n",
    "for box in result.boxes:\n",
    "    x1, y1, x2, y2 = map(int, box.xyxy[0])\n",
    "    label = box.cls\n",
    "    confidence = box.conf\n",
    "    class_name = result.names[label]\n",
    "\n",
    "    # Draw the bounding box\n",
    "    cv2.rectangle(image, (x1, y1), (x2, y2), (0, 255, 0), 2)\n",
    "\n",
    "    # Draw the label and confidence\n",
    "    label_text = f\"{class_name} {confidence:.2f}\"\n",
    "    cv2.putText(image, label_text, (x1, y1 - 10), cv2.FONT_HERSHEY_SIMPLEX, 0.5, (0, 255, 0), 2)\n",
    "\n",
    "# Convert BGR image to RGB for displaying with matplotlib\n",
    "image_rgb = cv2.cvtColor(image, cv2.COLOR_BGR2RGB)\n",
    "\n",
    "# Display the image\n",
    "plt.imshow(image_rgb)\n",
    "plt.axis('off')\n",
    "plt.show()"
   ]
  },
  {
   "cell_type": "code",
   "execution_count": 3,
   "metadata": {},
   "outputs": [
    {
     "name": "stdout",
     "output_type": "stream",
     "text": [
      "\n",
      "0: 640x480 4 persons, 1 bus, 1 stop sign, 4970.1ms\n",
      "Speed: 11.5ms preprocess, 4970.1ms inference, 144.6ms postprocess per image at shape (1, 3, 640, 480)\n",
      "Results saved to \u001b[1mruns/detect/predict\u001b[0m\n",
      "\n",
      "0: 640x480 4 persons, 1 bus, 1 stop sign, 8.0ms\n",
      "Speed: 8.4ms preprocess, 8.0ms inference, 27.3ms postprocess per image at shape (1, 3, 640, 480)\n",
      "Results saved to \u001b[1mruns/detect/predict\u001b[0m\n",
      "1 label saved to runs/detect/predict/labels\n",
      "\n",
      "0: 640x480 3 persons, 1 bus, 1 stop sign, 2498.2ms\n",
      "1: 640x480 4 persons, 1 bus, 1 stop sign, 2498.2ms\n",
      "Speed: 2.9ms preprocess, 2498.2ms inference, 23.3ms postprocess per image at shape (1, 3, 640, 480)\n",
      "Results saved to \u001b[1mruns/detect/predict\u001b[0m\n",
      "3 labels saved to runs/detect/predict/labels\n"
     ]
    }
   ],
   "source": [
    "import cv2\n",
    "from PIL import Image\n",
    "\n",
    "from ultralytics import YOLO\n",
    "\n",
    "model = YOLO(\"yolov8n.pt\")\n",
    "# accepts all formats - image/dir/Path/URL/video/PIL/ndarray. 0 for webcam\n",
    "#results = model.predict(source=\"0\")\n",
    "#results = model.predict(source=\"folder\", show=True)  # Display preds. Accepts all YOLO predict arguments\n",
    "\n",
    "# from PIL\n",
    "im1 = Image.open(\"bus.jpg\")\n",
    "results = model.predict(source=im1, save=True)  # save plotted images\n",
    "\n",
    "# from ndarray\n",
    "im2 = cv2.imread(\"bus.jpg\")\n",
    "results = model.predict(source=im2, save=True, save_txt=True)  # save predictions as labels\n",
    "\n",
    "# from list of PIL/ndarray\n",
    "results = model.predict(source=[im1, im2])"
   ]
  },
  {
   "cell_type": "code",
   "execution_count": 4,
   "metadata": {},
   "outputs": [
    {
     "name": "stdout",
     "output_type": "stream",
     "text": [
      "\n",
      "0: 480x640 1 dog, 4852.7ms\n",
      "Speed: 5.7ms preprocess, 4852.7ms inference, 29.5ms postprocess per image at shape (1, 3, 480, 640)\n",
      "Results saved to \u001b[1mruns/detect/predict2\u001b[0m\n"
     ]
    }
   ],
   "source": [
    "import cv2\n",
    "from PIL import Image\n",
    "\n",
    "from ultralytics import YOLO\n",
    "\n",
    "model = YOLO(\"yolov8n.pt\")\n",
    "# accepts all formats - image/dir/Path/URL/video/PIL/ndarray. 0 for webcam\n",
    "#results = model.predict(source=\"0\")\n",
    "#results = model.predict(source=\"folder\", show=True)  # Display preds. Accepts all YOLO predict arguments\n",
    "\n",
    "# from PIL\n",
    "im1 = Image.open(\"goat_image.jpg\")\n",
    "results = model.predict(source=im1, save=True)  # save plotted images"
   ]
  },
  {
   "cell_type": "code",
   "execution_count": 5,
   "metadata": {},
   "outputs": [
    {
     "name": "stdout",
     "output_type": "stream",
     "text": [
      "{0: 'person', 1: 'bicycle', 2: 'car', 3: 'motorcycle', 4: 'airplane', 5: 'bus', 6: 'train', 7: 'truck', 8: 'boat', 9: 'traffic light', 10: 'fire hydrant', 11: 'stop sign', 12: 'parking meter', 13: 'bench', 14: 'bird', 15: 'cat', 16: 'dog', 17: 'horse', 18: 'sheep', 19: 'cow', 20: 'elephant', 21: 'bear', 22: 'zebra', 23: 'giraffe', 24: 'backpack', 25: 'umbrella', 26: 'handbag', 27: 'tie', 28: 'suitcase', 29: 'frisbee', 30: 'skis', 31: 'snowboard', 32: 'sports ball', 33: 'kite', 34: 'baseball bat', 35: 'baseball glove', 36: 'skateboard', 37: 'surfboard', 38: 'tennis racket', 39: 'bottle', 40: 'wine glass', 41: 'cup', 42: 'fork', 43: 'knife', 44: 'spoon', 45: 'bowl', 46: 'banana', 47: 'apple', 48: 'sandwich', 49: 'orange', 50: 'broccoli', 51: 'carrot', 52: 'hot dog', 53: 'pizza', 54: 'donut', 55: 'cake', 56: 'chair', 57: 'couch', 58: 'potted plant', 59: 'bed', 60: 'dining table', 61: 'toilet', 62: 'tv', 63: 'laptop', 64: 'mouse', 65: 'remote', 66: 'keyboard', 67: 'cell phone', 68: 'microwave', 69: 'oven', 70: 'toaster', 71: 'sink', 72: 'refrigerator', 73: 'book', 74: 'clock', 75: 'vase', 76: 'scissors', 77: 'teddy bear', 78: 'hair drier', 79: 'toothbrush'}\n"
     ]
    }
   ],
   "source": [
    "# Access the class names\n",
    "class_names = model.names\n",
    "\n",
    "# Print the class names\n",
    "print(class_names)"
   ]
  }
 ],
 "metadata": {
  "kernelspec": {
   "display_name": "yolo",
   "language": "python",
   "name": "python3"
  },
  "language_info": {
   "codemirror_mode": {
    "name": "ipython",
    "version": 3
   },
   "file_extension": ".py",
   "mimetype": "text/x-python",
   "name": "python",
   "nbconvert_exporter": "python",
   "pygments_lexer": "ipython3",
   "version": "3.11.7"
  }
 },
 "nbformat": 4,
 "nbformat_minor": 2
}
